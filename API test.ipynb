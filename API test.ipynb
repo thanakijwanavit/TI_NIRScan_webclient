{
 "cells": [
  {
   "cell_type": "code",
   "execution_count": 97,
   "metadata": {},
   "outputs": [],
   "source": [
    "import requests\n",
    "import numpy as np\n",
    "import pandas as pd\n",
    "import urllib"
   ]
  },
  {
   "cell_type": "code",
   "execution_count": 2,
   "metadata": {},
   "outputs": [
    {
     "name": "stdout",
     "output_type": "stream",
     "text": [
      "The pastebin URL is:Bad API request, invalid api_dev_key\n"
     ]
    }
   ],
   "source": [
    "#### standard post requests######\n",
    "# defining the api-endpoint  \n",
    "API_ENDPOINT = \"http://pastebin.com/api/api_post.php\"\n",
    "  \n",
    "# your API key here \n",
    "API_KEY = \"XXXXXXXXXXXXXXXXX\"\n",
    "  \n",
    "# your source code here \n",
    "source_code = ''' \n",
    "print(\"Hello, world!\") \n",
    "a = 1 \n",
    "b = 2 \n",
    "print(a + b) \n",
    "'''\n",
    "  \n",
    "# data to be sent to api \n",
    "data = {'api_dev_key':API_KEY, \n",
    "        'api_option':'paste', \n",
    "        'api_paste_code':source_code, \n",
    "        'api_paste_format':'python'} \n",
    "  \n",
    "# sending post request and saving response as response object \n",
    "r = requests.post(url = API_ENDPOINT, data = data) \n",
    "  \n",
    "# extracting response text  \n",
    "pastebin_url = r.text \n",
    "print(\"The pastebin URL is:%s\"%pastebin_url) "
   ]
  },
  {
   "cell_type": "code",
   "execution_count": 3,
   "metadata": {},
   "outputs": [
    {
     "name": "stdout",
     "output_type": "stream",
     "text": [
      "{'error_message': 'You must use an API key to authenticate each request to Google Maps Platform APIs. For additional information, please refer to http://g.co/dev/maps-no-account', 'results': [], 'status': 'REQUEST_DENIED'}\n"
     ]
    }
   ],
   "source": [
    "####### standard get requst#####\n",
    "# api-endpoint \n",
    "URL = \"http://maps.googleapis.com/maps/api/geocode/json\"\n",
    "  \n",
    "# location given here \n",
    "location = \"delhi technological university\"\n",
    "  \n",
    "# defining a params dict for the parameters to be sent to the API \n",
    "PARAMS = {'address':location} \n",
    "  \n",
    "# sending get request and saving the response as response object \n",
    "r = requests.get(url = URL, params = PARAMS) \n",
    "  \n",
    "# extracting data in json format \n",
    "data = r.json() \n",
    "  \n",
    "  \n",
    "print(data)"
   ]
  },
  {
   "cell_type": "code",
   "execution_count": 100,
   "metadata": {},
   "outputs": [],
   "source": [
    "import json\n",
    "import re\n",
    "\n",
    "\n",
    "request_header_string = '''Accept: */*\n",
    "Accept-Encoding: gzip, deflate\n",
    "Accept-Language: en,th;q=0.9\n",
    "Connection: keep-alive\n",
    "Cookie: iconGridCol=4; iconGridRow=3\n",
    "Host: 192.168.0.10\n",
    "Referer: http://192.168.0.10/\n",
    "User-Agent: Mozilla/5.0 (Macintosh; Intel Mac OS X 10_14_6) AppleWebKit/537.36 (KHTML, like Gecko) Chrome/75.0.3770.100 Safari/537.36\n",
    "X-Requested-With: XMLHttpRequest'''\n",
    "\n",
    "\n",
    "\n",
    "def parse_string_to_dict(request_header_string):\n",
    "    request_header_dict={}\n",
    "    request_header_list = [header.split(\": \") if len(header.split(\": \")) == 2 else [header.split(\": \")[0],header.split(': ')[1]+': '+header.split(': ')[2]] for header in request_header_string.split('\\n')]\n",
    "    for (dict_key,dict_value) in request_header_list:\n",
    "        request_header_dict[dict_key] = dict_value\n",
    "    return request_header_dict\n"
   ]
  },
  {
   "cell_type": "code",
   "execution_count": 102,
   "metadata": {},
   "outputs": [
    {
     "data": {
      "text/plain": [
       "'\"1350\\\\n2450\\\\n1\\\\n16044\\\\n10\\\\n1100\\\\n51\\\\n1726\\\\n\" \\n\\n'"
      ]
     },
     "execution_count": 102,
     "metadata": {},
     "output_type": "execute_result"
    }
   ],
   "source": [
    "URL = \"http://192.168.0.10/read_file.php?filename=defaultParameters.txt&time=0\"\n",
    "  \n",
    "  \n",
    "# defining a params dict for the parameters to be sent to the API \n",
    "PARAMS = parse_string_to_dict(request_header_string)\n",
    "  \n",
    "# sending get request and saving the response as response object \n",
    "response = requests.get(url = URL, params = PARAMS) \n",
    "  \n",
    "response.text"
   ]
  },
  {
   "cell_type": "code",
   "execution_count": null,
   "metadata": {},
   "outputs": [],
   "source": [
    "\"1350\\n2450\\n1\\n16044\\n10\\n1100\\n51\\n1726\\n\" "
   ]
  },
  {
   "cell_type": "markdown",
   "metadata": {},
   "source": [
    "# Calibration script"
   ]
  },
  {
   "cell_type": "code",
   "execution_count": 151,
   "metadata": {},
   "outputs": [
    {
     "data": {
      "text/plain": [
       "'\"-1650.2637939453125000000000000000000000000000000000000000000000000000\\\\n1.1157624721527099609375000000000000000000000000000000000000000000\\\\n0.0001071036967914551496505737304687500000000000000000000000000000\\\\n\" \\n\\n'"
      ]
     },
     "execution_count": 151,
     "metadata": {},
     "output_type": "execute_result"
    }
   ],
   "source": [
    "### read file script 1\n",
    "header = '''Accept: */*\n",
    "Accept-Encoding: gzip, deflate\n",
    "Accept-Language: en,th;q=0.9\n",
    "Connection: keep-alive\n",
    "Cookie: iconGridCol=4; iconGridRow=3\n",
    "Host: 192.168.0.10\n",
    "Referer: http://192.168.0.10/\n",
    "User-Agent: Mozilla/5.0 (Macintosh; Intel Mac OS X 10_14_6) AppleWebKit/537.36 (KHTML, like Gecko) Chrome/75.0.3770.100 Safari/537.36\n",
    "X-Requested-With: XMLHttpRequest'''\n",
    "\n",
    "\n",
    "PARAMS = parse_string_to_dict(header)\n",
    "URL = \"http://192.168.0.10/read_file.php?filename=calibration_data%2Fpixel_coeffs.txt&time=0\"\n",
    "  \n",
    "# sending get request and saving the response as response object \n",
    "response = requests.get(url = URL, params = PARAMS) \n",
    "  \n",
    "response.text\n"
   ]
  },
  {
   "cell_type": "code",
   "execution_count": 152,
   "metadata": {},
   "outputs": [
    {
     "name": "stdout",
     "output_type": "stream",
     "text": [
      "\n"
     ]
    }
   ],
   "source": [
    "#### write file script 1\n",
    "n_random= np.random.randint(10,300)\n",
    "\n",
    "write_file_body={\"a\":''' exec 1> log.txt\n",
    "rm patterns/*.csv\n",
    "rm patterns/*.bmp\n",
    "rm patterns/*.sdf\n",
    "rm tmp/*\n",
    "rm *.bmp\n",
    "echo \"Generating Patterns...\" > tmp/script_status{n}.txt\n",
    "dlp_nirscan -A51 -Z1726 -N110\n",
    "if [ $? -eq 255 ];\n",
    " then\n",
    " echo \"failed\" > tmp/script_status{n}.txt\n",
    " exit 0\n",
    " fi\n",
    "cd patterns/\n",
    "echo \"Preparing Scan Solution...\" > ../tmp/script_status10.txt\n",
    "dlp_nirscan -Pscan.sdf\n",
    "if [ $? -eq 255 ];\n",
    " then\n",
    " echo \"failed\" > ../tmp/script_status{n}.txt\n",
    " exit 0\n",
    " fi\n",
    "echo \"Loading Patterns...\" > ../tmp/script_status{n}.txt\n",
    "count=0\n",
    "for entry in *\n",
    "do\n",
    "case $entry in *.bmp)\n",
    "convert $entry -virtual-pixel Black  -filter point -interpolate nearestneighbor -distort polynomial \"2 $(cat /usr/share/matrix-gui-2.0/calibration_data/control_points.txt)\" scan_img.bmp\n",
    "mv scan_img.bmp $entry\n",
    "count=$((count+1));;\n",
    "esac\n",
    "done\n",
    "dlp_nirscan -l$count\n",
    "\n",
    "cd .. \n",
    "dlp_nirscan -S110 -E1400 -fcustom_scan\n",
    "#Using a more unique string to detect if the script is completed\n",
    "echo \"_?!!SCRIPT_COMPLETED!!?_\" > tmp/script_status{n}.txt'''.format(n=n_random),\n",
    "'filename': 'scan.sh'}\n",
    "\n",
    "\n",
    "\n",
    "header_string = '''Accept: */*\n",
    "Accept-Encoding: gzip, deflate\n",
    "Accept-Language: en,th;q=0.9\n",
    "Connection: keep-alive\n",
    "Content-Length: 1185\n",
    "Content-Type: application/x-www-form-urlencoded\n",
    "Cookie: iconGridCol=4; iconGridRow=3\n",
    "Host: 192.168.0.10\n",
    "Origin: http://192.168.0.10\n",
    "Referer: http://192.168.0.10/\n",
    "User-Agent: Mozilla/5.0 (Macintosh; Intel Mac OS X 10_14_6) AppleWebKit/537.36 (KHTML, like Gecko) Chrome/75.0.3770.100 Safari/537.36\n",
    "X-Requested-With: XMLHttpRequest'''\n",
    "\n",
    "header = parse_string_to_dict(header_string)\n",
    "\n",
    "data = write_file_body\n",
    "API_ENDPOINT = \"http://192.168.0.10/write_file.php\"\n",
    "# sending post request and saving response as response object \n",
    "r = requests.post(url = API_ENDPOINT, data = data, headers=header) \n",
    "  \n",
    "# extracting response text  \n",
    "print(r.text)"
   ]
  },
  {
   "cell_type": "code",
   "execution_count": 153,
   "metadata": {},
   "outputs": [
    {
     "data": {
      "text/plain": [
       "''"
      ]
     },
     "execution_count": 153,
     "metadata": {},
     "output_type": "execute_result"
    }
   ],
   "source": [
    "### read file script 1\n",
    "header = '''Accept: */*\n",
    "Accept-Encoding: gzip, deflate\n",
    "Accept-Language: en,th;q=0.9\n",
    "Connection: keep-alive\n",
    "Cookie: iconGridCol=4; iconGridRow=3\n",
    "Host: 192.168.0.10\n",
    "Referer: http://192.168.0.10/\n",
    "User-Agent: Mozilla/5.0 (Macintosh; Intel Mac OS X 10_14_6) AppleWebKit/537.36 (KHTML, like Gecko) Chrome/75.0.3770.100 Safari/537.36\n",
    "X-Requested-With: XMLHttpRequest'''\n",
    "\n",
    "\n",
    "PARAMS = parse_string_to_dict(header)\n",
    "URL = \"http://192.168.0.10/run_scan.php\"\n",
    "  \n",
    "# sending get request and saving the response as response object \n",
    "response = requests.get(url = URL, params = PARAMS) \n",
    "  \n",
    "response.text\n"
   ]
  },
  {
   "cell_type": "code",
   "execution_count": 154,
   "metadata": {},
   "outputs": [
    {
     "name": "stdout",
     "output_type": "stream",
     "text": [
      "\n"
     ]
    }
   ],
   "source": [
    "#### write file script 2\n",
    "body = {'a': '''1350\n",
    "2450\n",
    "10\n",
    "1610\n",
    "10\n",
    "110\n",
    "51\n",
    "1726''',\n",
    "'filename': 'defaultParameters.txt'}\n",
    "\n",
    "\n",
    "\n",
    "header_string = '''Accept: */*\n",
    "Accept-Encoding: gzip, deflate\n",
    "Accept-Language: en,th;q=0.9\n",
    "Connection: keep-alive\n",
    "Content-Length: 82\n",
    "Content-Type: application/x-www-form-urlencoded\n",
    "Cookie: iconGridCol=4; iconGridRow=3\n",
    "Host: 192.168.0.10\n",
    "Origin: http://192.168.0.10\n",
    "Referer: http://192.168.0.10/\n",
    "User-Agent: Mozilla/5.0 (Macintosh; Intel Mac OS X 10_14_6) AppleWebKit/537.36 (KHTML, like Gecko) Chrome/75.0.3770.100 Safari/537.36\n",
    "X-Requested-With: XMLHttpRequest'''\n",
    "\n",
    "header = parse_string_to_dict(header_string)\n",
    "data = body\n",
    "\n",
    "API_ENDPOINT = \"http://192.168.0.10/write_file.php\"\n",
    "# sending post request and saving response as response object \n",
    "r = requests.post(url = API_ENDPOINT, data = data, headers=header) \n",
    "  \n",
    "# extracting response text  \n",
    "print(r.text)"
   ]
  },
  {
   "cell_type": "code",
   "execution_count": 155,
   "metadata": {},
   "outputs": [
    {
     "data": {
      "text/plain": [
       "'_?!!SCRIPT_COMPLETED!!?_\\n'"
      ]
     },
     "execution_count": 155,
     "metadata": {},
     "output_type": "execute_result"
    }
   ],
   "source": [
    "### check ccalibration status###\n",
    "### read file script 1\n",
    "import time\n",
    "header = '''Accept: */*\n",
    "Accept-Encoding: gzip, deflate\n",
    "Accept-Language: en,th;q=0.9\n",
    "Connection: keep-alive\n",
    "Cookie: iconGridCol=4; iconGridRow=3\n",
    "Host: 192.168.0.10\n",
    "Referer: http://192.168.0.10/\n",
    "User-Agent: Mozilla/5.0 (Macintosh; Intel Mac OS X 10_14_6) AppleWebKit/537.36 (KHTML, like Gecko) Chrome/75.0.3770.100 Safari/537.36\n",
    "X-Requested-With: XMLHttpRequest'''\n",
    "\n",
    "\n",
    "PARAMS = parse_string_to_dict(header)\n",
    "URL = \"http://192.168.0.10/tmp/script_status{n}.txt\".format(n=n_random)\n",
    "  \n",
    "# sending get request and saving the response as response object \n",
    "response = requests.get(url = URL, params = PARAMS) \n",
    "\n",
    "while response.status_code == 404:\n",
    "    print(response.text)\n",
    "    time.sleep(2)\n",
    "    response = requests.get(url = URL, params = PARAMS)\n",
    "response.text\n"
   ]
  },
  {
   "cell_type": "code",
   "execution_count": 5,
   "metadata": {},
   "outputs": [],
   "source": [
    "# n_random\n",
    "header = '''Accept: */*\n",
    "Accept-Encoding: gzip, deflate\n",
    "Accept-Language: en,th;q=0.9\n",
    "Connection: keep-alive\n",
    "Cookie: iconGridCol=4; iconGridRow=3\n",
    "Host: 192.168.0.10\n",
    "Referer: http://192.168.0.10/\n",
    "User-Agent: Mozilla/5.0 (Macintosh; Intel Mac OS X 10_14_6) AppleWebKit/537.36 (KHTML, like Gecko) Chrome/75.0.3770.100 Safari/537.36\n",
    "X-Requested-With: XMLHttpRequest'''"
   ]
  },
  {
   "cell_type": "code",
   "execution_count": 102,
   "metadata": {},
   "outputs": [],
   "source": [
    "class Data:\n",
    "    def encoded(self,params):\n",
    "        return urllib.parse.urlencode(params, doseq=True)\n",
    "        "
   ]
  },
  {
   "cell_type": "code",
   "execution_count": 142,
   "metadata": {},
   "outputs": [],
   "source": [
    "class Parser:\n",
    "    def parse_string_to_dict(request_header_string):\n",
    "        request_header_dict={}\n",
    "        request_header_list = [header.split(\": \") if len(header.split(\": \")) == 2 else [header.split(\": \")[0],header.split(': ')[1]+': '+header.split(': ')[2]] for header in request_header_string.split('\\n')]\n",
    "        for (dict_key,dict_value) in request_header_list:\n",
    "            request_header_dict[dict_key] = dict_value\n",
    "        return request_header_dict\n",
    "class Header:\n",
    "    standard_header = '''Accept: */*\n",
    "Accept-Encoding: gzip, deflate\n",
    "Accept-Language: en,th;q=0.9\n",
    "Connection: keep-alive\n",
    "Cookie: iconGridCol=4; iconGridRow=3\n",
    "Host: 192.168.0.10\n",
    "Referer: http://192.168.0.10/\n",
    "User-Agent: Mozilla/5.0 (Macintosh; Intel Mac OS X 10_14_6) AppleWebKit/537.36 (KHTML, like Gecko) Chrome/75.0.3770.100 Safari/537.36\n",
    "X-Requested-With: XMLHttpRequest'''\n",
    "    \n",
    "    post_php_header = '''Accept: */*\n",
    "Accept-Encoding: gzip, deflate\n",
    "Accept-Language: en,th;q=0.9\n",
    "Connection: keep-alive\n",
    "Content-Length: 1191\n",
    "Content-Type: application/x-www-form-urlencoded\n",
    "Cookie: iconGridCol=4; iconGridRow=3\n",
    "Host: 192.168.0.10\n",
    "Origin: http://192.168.0.10\n",
    "Referer: http://192.168.0.10/\n",
    "User-Agent: Mozilla/5.0 (Macintosh; Intel Mac OS X 10_14_6) AppleWebKit/537.36 (KHTML, like Gecko) Chrome/77.0.3865.90 Safari/537.36\n",
    "X-Requested-With: XMLHttpRequest'''\n",
    "    \n",
    "class URLlist:\n",
    "    read_current_setup = \"http://192.168.0.10/read_file.php?filename=defaultParameters.txt&time=0\"\n",
    "    write_file = \"http://192.168.0.10/write_file.php\"\n",
    "class HTTPMethods:\n",
    "    \n",
    "    def get_request(self,header = Header.standard_header,url=''):\n",
    "        PARAMS = Parser.parse_string_to_dict(header)\n",
    "\n",
    "        # sending get request and saving the response as response object \n",
    "        response = requests.get(url = url, params = PARAMS) \n",
    "        return response\n",
    "    def post_request(self, header = Header.post_php_header,url = '',data = ''):\n",
    "        PARAMS = Parser.parse_string_to_dict(header)\n",
    "        r = requests.post(url = url, data = data, headers=PARAMS ) \n",
    "    \n",
    "class POSTData(Data):\n",
    "    def write_file(id):\n",
    "         return '''a=exec+1%3E+log.txt%0Arm+patterns%2F*.csv%0Arm+patterns%2F*.bmp%0Arm+patterns%2F*.sdf%0Arm+tmp%2F*%0Arm+*.bmp%0Aecho+%22Generating+Patterns...%22+%3E+tmp%2Fscript_status{n}.txt%0Adlp_nirscan+-A51+-Z1726+-N110%0Aif+%5B+%24%3F+-eq+255+%5D%3B%0A+then%0A+echo+%22failed%22+%3E+tmp%2Fscript_status{n}.txt%0A+exit+0%0A+fi%0Acd+patterns%2F%0Aecho+%22Preparing+Scan+Solution...%22+%3E+..%2Ftmp%2Fscript_status{n}.txt%0Adlp_nirscan+-Pscan.sdf%0Aif+%5B+%24%3F+-eq+255+%5D%3B%0A+then%0A+echo+%22failed%22+%3E+..%2Ftmp%2Fscript_status{n}.txt%0A+exit+0%0A+fi%0Aecho+%22Loading+Patterns...%22+%3E+..%2Ftmp%2Fscript_status{n}.txt%0Acount%3D0%0Afor+entry+in+*%0Ado%0Acase+%24entry+in+*.bmp)%0Aconvert+%24entry+-virtual-pixel+Black++-filter+point+-interpolate+nearestneighbor+-distort+polynomial+%222+%24(cat+%2Fusr%2Fshare%2Fmatrix-gui-2.0%2Fcalibration_data%2Fcontrol_points.txt)%22+scan_img.bmp%0Amv+scan_img.bmp+%24entry%0Acount%3D%24((count%2B1))%3B%3B%0Aesac%0Adone%0Adlp_nirscan+-l%24count%0A%0Acd+..+%0Adlp_nirscan+-S110+-E1400+-fcustom_scan%0A%23Using+a+more+unique+string+to+detect+if+the+script+is+completed%0Aecho+%22_%3F!!SCRIPT_COMPLETED!!%3F_%22+%3E+tmp%2Fscript_status{n}.txt&filename=scan.sh'''.format(n=str(id))\n",
    "    "
   ]
  },
  {
   "cell_type": "code",
   "execution_count": null,
   "metadata": {},
   "outputs": [],
   "source": []
  },
  {
   "cell_type": "code",
   "execution_count": 104,
   "metadata": {},
   "outputs": [],
   "source": [
    "## Get current settings\n",
    "class APIClient(HTTPMethods):\n",
    "    URLlist = URLlist()\n",
    "    def get_current_settings(self,header_list = ['lower_lim','upper_lim','resolution(nm)','measurement_time(ms)','number_of_scans','number_of_points','unknown_1','unknown_2']):\n",
    "        response = self.get_request(header = Header.standard_header,url = URLlist.read_current_setup)\n",
    "        value_list = response.text.split()[0].strip('\\\"').split('\\\\n')\n",
    "        return dict(zip(header_list,value_list))\n",
    "    def post_write_file(self):\n",
    "        n = np.random.randint(100,1000)\n",
    "        data = POSTData.write_file(333)\n",
    "        response = self.post_request(header = Header.post_php_header ,url = URLlist.write_file ,data = '')"
   ]
  },
  {
   "cell_type": "code",
   "execution_count": 81,
   "metadata": {},
   "outputs": [
    {
     "data": {
      "text/plain": [
       "{'lower_lim': '1350',\n",
       " 'upper_lim': '2450',\n",
       " 'resolution(nm)': '10',\n",
       " 'measurement_time(ms)': '1771',\n",
       " 'number_of_scans': '11',\n",
       " 'number_of_points': '110',\n",
       " 'unknown_1': '51',\n",
       " 'unknown_2': '1726'}"
      ]
     },
     "execution_count": 81,
     "metadata": {},
     "output_type": "execute_result"
    }
   ],
   "source": [
    "API = APIClient()\n",
    "API.get_current_settings()"
   ]
  },
  {
   "cell_type": "code",
   "execution_count": 82,
   "metadata": {},
   "outputs": [
    {
     "data": {
      "text/plain": [
       "'http://192.168.0.10/read_file.php?filename=defaultParameters.txt&time=0'"
      ]
     },
     "execution_count": 82,
     "metadata": {},
     "output_type": "execute_result"
    }
   ],
   "source": [
    "APIClient.URLlist.read_current_setup"
   ]
  },
  {
   "cell_type": "code",
   "execution_count": 86,
   "metadata": {},
   "outputs": [
    {
     "data": {
      "text/plain": [
       "1072"
      ]
     },
     "execution_count": 86,
     "metadata": {},
     "output_type": "execute_result"
    }
   ],
   "source": []
  },
  {
   "cell_type": "code",
   "execution_count": 126,
   "metadata": {},
   "outputs": [],
   "source": [
    "params = {'a': '''exec+1%3E+log.txt%0Arm+patterns%2F*.csv%0Arm+patterns%2F*.bmp%0Arm+patterns%2F*.sdf%0Arm+tmp%2F*%0Arm+*.bmp%0Aecho+%22Generating+Patterns...%22+%3E+tmp%2Fscript_status{n}.txt%0Adlp_nirscan+-A51+-Z1726+-N110%0Aif+%5B+%24%3F+-eq+255+%5D%3B%0A+then%0A+echo+%22failed%22+%3E+tmp%2Fscript_status{n}.txt%0A+exit+0%0A+fi%0Acd+patterns%2F%0Aecho+%22Preparing+Scan+Solution...%22+%3E+..%2Ftmp%2Fscript_status{n}.txt%0Adlp_nirscan+-Pscan.sdf%0Aif+%5B+%24%3F+-eq+255+%5D%3B%0A+then%0A+echo+%22failed%22+%3E+..%2Ftmp%2Fscript_status{n}.txt%0A+exit+0%0A+fi%0Aecho+%22Loading+Patterns...%22+%3E+..%2Ftmp%2Fscript_status{n}.txt%0Acount%3D0%0Afor+entry+in+*%0Ado%0Acase+%24entry+in+*.bmp)%0Aconvert+%24entry+-virtual-pixel+Black++-filter+point+-interpolate+nearestneighbor+-distort+polynomial+%222+%24(cat+%2Fusr%2Fshare%2Fmatrix-gui-2.0%2Fcalibration_data%2Fcontrol_points.txt)%22+scan_img.bmp%0Amv+scan_img.bmp+%24entry%0Acount%3D%24((count%2B1))%3B%3B%0Aesac%0Adone%0Adlp_nirscan+-l%24count%0A%0Acd+..+%0Adlp_nirscan+-S110+-E1400+-fcustom_scan%0A%23Using+a+more+unique+string+to+detect+if+the+script+is+completed%0Aecho+%22_%3F!!SCRIPT_COMPLETED!!%3F_%22+%3E+tmp%2Fscript_status{n}.txt'''.format(n=434),\n",
    "         'filename':'scan.sh'}\n",
    "encoded_params = urllib.parse.urlencode(params, doseq=True)"
   ]
  },
  {
   "cell_type": "code",
   "execution_count": 133,
   "metadata": {},
   "outputs": [],
   "source": [
    "encoded_params = '''a=exec+1%3E+log.txt%0Arm+patterns%2F*.csv%0Arm+patterns%2F*.bmp%0Arm+patterns%2F*.sdf%0Arm+tmp%2F*%0Arm+*.bmp%0Aecho+%22Generating+Patterns...%22+%3E+tmp%2Fscript_status{n}.txt%0Adlp_nirscan+-A51+-Z1726+-N110%0Aif+%5B+%24%3F+-eq+255+%5D%3B%0A+then%0A+echo+%22failed%22+%3E+tmp%2Fscript_status{n}.txt%0A+exit+0%0A+fi%0Acd+patterns%2F%0Aecho+%22Preparing+Scan+Solution...%22+%3E+..%2Ftmp%2Fscript_status{n}.txt%0Adlp_nirscan+-Pscan.sdf%0Aif+%5B+%24%3F+-eq+255+%5D%3B%0A+then%0A+echo+%22failed%22+%3E+..%2Ftmp%2Fscript_status{n}.txt%0A+exit+0%0A+fi%0Aecho+%22Loading+Patterns...%22+%3E+..%2Ftmp%2Fscript_status{n}.txt%0Acount%3D0%0Afor+entry+in+*%0Ado%0Acase+%24entry+in+*.bmp)%0Aconvert+%24entry+-virtual-pixel+Black++-filter+point+-interpolate+nearestneighbor+-distort+polynomial+%222+%24(cat+%2Fusr%2Fshare%2Fmatrix-gui-2.0%2Fcalibration_data%2Fcontrol_points.txt)%22+scan_img.bmp%0Amv+scan_img.bmp+%24entry%0Acount%3D%24((count%2B1))%3B%3B%0Aesac%0Adone%0Adlp_nirscan+-l%24count%0A%0Acd+..+%0Adlp_nirscan+-S110+-E1400+-fcustom_scan%0A%23Using+a+more+unique+string+to+detect+if+the+script+is+completed%0Aecho+%22_%3F!!SCRIPT_COMPLETED!!%3F_%22+%3E+tmp%2Fscript_status{n}.txt&filename=scan.sh'''.format(n=str(np.random.randint(100,1000)))"
   ]
  },
  {
   "cell_type": "code",
   "execution_count": 134,
   "metadata": {},
   "outputs": [
    {
     "data": {
      "text/plain": [
       "False"
      ]
     },
     "execution_count": 134,
     "metadata": {},
     "output_type": "execute_result"
    }
   ],
   "source": [
    "encoded_params == target"
   ]
  },
  {
   "cell_type": "code",
   "execution_count": 129,
   "metadata": {},
   "outputs": [
    {
     "data": {
      "text/plain": [
       "{'a=exec%2B1%253E%2Blog.txt%250Arm%2Bpatterns%252F%2A.csv%250Arm%2Bpatterns%252F%2A.bmp%250Arm%2Bpatterns%252F%2A.sdf%250Arm%2Btmp%252F%2A%250Arm%2B%2A.bmp%250Aecho%2B%2522Generating%2BPatterns...%2522%2B%253E%2Btmp%252Fscript_status434.txt%250Adlp_nirscan%2B-A51%2B-Z1726%2B-N110%250Aif%2B%255B%2B%2524%253F%2B-eq%2B255%2B%255D%253B%250A%2Bthen%250A%2Becho%2B%2522failed%2522%2B%253E%2Btmp%252Fscript_status434.txt%250A%2Bexit%2B0%250A%2Bfi%250Acd%2Bpatterns%252F%250Aecho%2B%2522Preparing%2BScan%2BSolution...%2522%2B%253E%2B..%252Ftmp%252Fscript_status434.txt%250Adlp_nirscan%2B-Pscan.sdf%250Aif%2B%255B%2B%2524%253F%2B-eq%2B255%2B%255D%253B%250A%2Bthen%250A%2Becho%2B%2522failed%2522%2B%253E%2B..%252Ftmp%252Fscript_status434.txt%250A%2Bexit%2B0%250A%2Bfi%250Aecho%2B%2522Loading%2BPatterns...%2522%2B%253E%2B..%252Ftmp%252Fscript_status434.txt%250Acount%253D0%250Afor%2Bentry%2Bin%2B%2A%250Ado%250Acase%2B%2524entry%2Bin%2B%2A.bmp%29%250Aconvert%2B%2524entry%2B-virtual-pixel%2BBlack%2B%2B-filter%2Bpoint%2B-interpolate%2Bnearestneighbor%2B-distort%2Bpolynomial%2B%25222%2B%2524%28cat%2B%252Fusr%252Fshare%252Fmatrix-gui-2.0%252Fcalibration_data%252Fcontrol_points.txt%29%2522%2Bscan_img.bmp%250Amv%2Bscan_img.bmp%2B%2524entry%250Acount%253D%2524%28%28count%252B1%29%29%253B%253B%250Aesac%250Adone%250Adlp_nirscan%2B-l%2524count%250A%250Acd%2B..%2B%250Adlp_nirscan%2B-S110%2B-E1400%2B-fcustom_scan%250A%2523Using%2Ba%2Bmore%2Bunique%2Bstring%2Bto%2Bdetect%2Bif%2Bthe%2Bscript%2Bis%2Bcompleted%250Aecho%2B%2522_%253F%21%21SCRIPT_COMPLETED%21%21%253F_%2522%2B%253E%2Btmp%252Fscript_status434.txt&filename=scan.sh'}"
      ]
     },
     "execution_count": 129,
     "metadata": {},
     "output_type": "execute_result"
    }
   ],
   "source": [
    "# import difflib\n",
    "set(encoded_params.split('+')).difference(set(target.split('+')))"
   ]
  },
  {
   "cell_type": "code",
   "execution_count": 130,
   "metadata": {},
   "outputs": [
    {
     "data": {
      "text/plain": [
       "'a=exec+1%3E+log.txt%0Arm+patterns%2F*.csv%0Arm+patterns%2F*.bmp%0Arm+patterns%2F*.sdf%0Arm+tmp%2F*%0Arm+*.bmp%0Aecho+%22Generating+Patterns...%22+%3E+tmp%2Fscript_status434.txt%0Adlp_nirscan+-A51+-Z1726+-N110%0Aif+%5B+%24%3F+-eq+255+%5D%3B%0A+then%0A+echo+%22failed%22+%3E+tmp%2Fscript_status434.txt%0A+exit+0%0A+fi%0Acd+patterns%2F%0Aecho+%22Preparing+Scan+Solution...%22+%3E+..%2Ftmp%2Fscript_status434.txt%0Adlp_nirscan+-Pscan.sdf%0Aif+%5B+%24%3F+-eq+255+%5D%3B%0A+then%0A+echo+%22failed%22+%3E+..%2Ftmp%2Fscript_status434.txt%0A+exit+0%0A+fi%0Aecho+%22Loading+Patterns...%22+%3E+..%2Ftmp%2Fscript_status434.txt%0Acount%3D0%0Afor+entry+in+*%0Ado%0Acase+%24entry+in+*.bmp)%0Aconvert+%24entry+-virtual-pixel+Black++-filter+point+-interpolate+nearestneighbor+-distort+polynomial+%222+%24(cat+%2Fusr%2Fshare%2Fmatrix-gui-2.0%2Fcalibration_data%2Fcontrol_points.txt)%22+scan_img.bmp%0Amv+scan_img.bmp+%24entry%0Acount%3D%24((count%2B1))%3B%3B%0Aesac%0Adone%0Adlp_nirscan+-l%24count%0A%0Acd+..+%0Adlp_nirscan+-S110+-E1400+-fcustom_scan%0A%23Using+a+more+unique+string+to+detect+if+the+script+is+completed%0Aecho+%22_%3F!!SCRIPT_COMPLETED!!%3F_%22+%3E+tmp%2Fscript_status434.txt&filename=scan.sh'"
      ]
     },
     "execution_count": 130,
     "metadata": {},
     "output_type": "execute_result"
    }
   ],
   "source": [
    "target"
   ]
  },
  {
   "cell_type": "code",
   "execution_count": 125,
   "metadata": {},
   "outputs": [
    {
     "data": {
      "text/plain": [
       "'a=exec+1%3E+log.txt%0Arm+patterns%2F%2A.csv%0Arm+patterns%2F%2A.bmp%0Arm+patterns%2F%2A.sdf%0Arm+tmp%2F%2A%0Arm+%2A.bmp%0Aecho+%22Generating+Patterns...%22+%3E+tmp%2Fscript_status434.txt%0Adlp_nirscan+-A51+-Z1726+-N110%0Aif+%5B+%24%3F+-eq+255+%5D%3B%0A+then%0A+echo+%22failed%22+%3E+tmp%2Fscript_status434.txt%0A+exit+0%0A+fi%0Acd+patterns%2F%0Aecho+%22Preparing+Scan+Solution...%22+%3E+..%2Ftmp%2Fscript_status434.txt%0Adlp_nirscan+-Pscan.sdf%0Aif+%5B+%24%3F+-eq+255+%5D%3B%0A+then%0A+echo+%22failed%22+%3E+..%2Ftmp%2Fscript_status434.txt%0A+exit+0%0A+fi%0Aecho+%22Loading+Patterns...%22+%3E+..%2Ftmp%2Fscript_status434.txt%0Acount%3D0%0Afor+entry+in+%2A%0Ado%0Acase+%24entry+in+%2A.bmp%29%0Aconvert+%24entry+-virtual-pixel+Black++-filter+point+-interpolate+nearestneighbor+-distort+polynomial+%222+%24%28cat+%2Fusr%2Fshare%2Fmatrix-gui-2.0%2Fcalibration_data%2Fcontrol_points.txt%29%22+scan_img.bmp%0Amv+scan_img.bmp+%24entry%0Acount%3D%24%28%28count%2B1%29%29%3B%3B%0Aesac%0Adone%0Adlp_nirscan+-l%24count%0A%0Acd+..+%0Adlp_nirscan+-S110+-E1400+-fcustom_scan%0A%23Using+a+more+unique+string+to+detect+if+the+script+is+completed%0Aecho+%22_%3F%21%21SCRIPT_COMPLETED%21%21%3F_%22+%3E+tmp%2Fscript_status434.txt&filename=scan.sh'"
      ]
     },
     "execution_count": 125,
     "metadata": {},
     "output_type": "execute_result"
    }
   ],
   "source": [
    "encoded_params"
   ]
  },
  {
   "cell_type": "code",
   "execution_count": 143,
   "metadata": {},
   "outputs": [
    {
     "data": {
      "text/plain": [
       "'a=exec+1%3E+log.txt%0Arm+patterns%2F*.csv%0Arm+patterns%2F*.bmp%0Arm+patterns%2F*.sdf%0Arm+tmp%2F*%0Arm+*.bmp%0Aecho+%22Generating+Patterns...%22+%3E+tmp%2Fscript_status333.txt%0Adlp_nirscan+-A51+-Z1726+-N110%0Aif+%5B+%24%3F+-eq+255+%5D%3B%0A+then%0A+echo+%22failed%22+%3E+tmp%2Fscript_status333.txt%0A+exit+0%0A+fi%0Acd+patterns%2F%0Aecho+%22Preparing+Scan+Solution...%22+%3E+..%2Ftmp%2Fscript_status333.txt%0Adlp_nirscan+-Pscan.sdf%0Aif+%5B+%24%3F+-eq+255+%5D%3B%0A+then%0A+echo+%22failed%22+%3E+..%2Ftmp%2Fscript_status333.txt%0A+exit+0%0A+fi%0Aecho+%22Loading+Patterns...%22+%3E+..%2Ftmp%2Fscript_status333.txt%0Acount%3D0%0Afor+entry+in+*%0Ado%0Acase+%24entry+in+*.bmp)%0Aconvert+%24entry+-virtual-pixel+Black++-filter+point+-interpolate+nearestneighbor+-distort+polynomial+%222+%24(cat+%2Fusr%2Fshare%2Fmatrix-gui-2.0%2Fcalibration_data%2Fcontrol_points.txt)%22+scan_img.bmp%0Amv+scan_img.bmp+%24entry%0Acount%3D%24((count%2B1))%3B%3B%0Aesac%0Adone%0Adlp_nirscan+-l%24count%0A%0Acd+..+%0Adlp_nirscan+-S110+-E1400+-fcustom_scan%0A%23Using+a+more+unique+string+to+detect+if+the+script+is+completed%0Aecho+%22_%3F!!SCRIPT_COMPLETED!!%3F_%22+%3E+tmp%2Fscript_status333.txt&filename=scan.sh'"
      ]
     },
     "execution_count": 143,
     "metadata": {},
     "output_type": "execute_result"
    }
   ],
   "source": []
  },
  {
   "cell_type": "code",
   "execution_count": null,
   "metadata": {},
   "outputs": [],
   "source": [
    "dlp_nirscan -A51 -Z1726 -N100\n"
   ]
  }
 ],
 "metadata": {
  "kernelspec": {
   "display_name": "Python 3",
   "language": "python",
   "name": "python3"
  },
  "language_info": {
   "codemirror_mode": {
    "name": "ipython",
    "version": 3
   },
   "file_extension": ".py",
   "mimetype": "text/x-python",
   "name": "python",
   "nbconvert_exporter": "python",
   "pygments_lexer": "ipython3",
   "version": "3.6.8"
  }
 },
 "nbformat": 4,
 "nbformat_minor": 2
}
