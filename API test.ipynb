{
 "cells": [
  {
   "cell_type": "code",
   "execution_count": 141,
   "metadata": {},
   "outputs": [],
   "source": [
    "import requests\n",
    "import numpy as np"
   ]
  },
  {
   "cell_type": "code",
   "execution_count": 7,
   "metadata": {},
   "outputs": [
    {
     "name": "stdout",
     "output_type": "stream",
     "text": [
      "The pastebin URL is:Bad API request, invalid api_dev_key\n"
     ]
    }
   ],
   "source": [
    "#### standard post requests######\n",
    "# defining the api-endpoint  \n",
    "API_ENDPOINT = \"http://pastebin.com/api/api_post.php\"\n",
    "  \n",
    "# your API key here \n",
    "API_KEY = \"XXXXXXXXXXXXXXXXX\"\n",
    "  \n",
    "# your source code here \n",
    "source_code = ''' \n",
    "print(\"Hello, world!\") \n",
    "a = 1 \n",
    "b = 2 \n",
    "print(a + b) \n",
    "'''\n",
    "  \n",
    "# data to be sent to api \n",
    "data = {'api_dev_key':API_KEY, \n",
    "        'api_option':'paste', \n",
    "        'api_paste_code':source_code, \n",
    "        'api_paste_format':'python'} \n",
    "  \n",
    "# sending post request and saving response as response object \n",
    "r = requests.post(url = API_ENDPOINT, data = data) \n",
    "  \n",
    "# extracting response text  \n",
    "pastebin_url = r.text \n",
    "print(\"The pastebin URL is:%s\"%pastebin_url) "
   ]
  },
  {
   "cell_type": "code",
   "execution_count": 9,
   "metadata": {},
   "outputs": [
    {
     "name": "stdout",
     "output_type": "stream",
     "text": [
      "{'error_message': 'You must use an API key to authenticate each request to Google Maps Platform APIs. For additional information, please refer to http://g.co/dev/maps-no-account', 'results': [], 'status': 'REQUEST_DENIED'}\n"
     ]
    }
   ],
   "source": [
    "####### standard get requst#####\n",
    "# api-endpoint \n",
    "URL = \"http://maps.googleapis.com/maps/api/geocode/json\"\n",
    "  \n",
    "# location given here \n",
    "location = \"delhi technological university\"\n",
    "  \n",
    "# defining a params dict for the parameters to be sent to the API \n",
    "PARAMS = {'address':location} \n",
    "  \n",
    "# sending get request and saving the response as response object \n",
    "r = requests.get(url = URL, params = PARAMS) \n",
    "  \n",
    "# extracting data in json format \n",
    "data = r.json() \n",
    "  \n",
    "  \n",
    "print(data)"
   ]
  },
  {
   "cell_type": "code",
   "execution_count": 100,
   "metadata": {},
   "outputs": [],
   "source": [
    "import json\n",
    "import re\n",
    "\n",
    "\n",
    "request_header_string = '''Accept: */*\n",
    "Accept-Encoding: gzip, deflate\n",
    "Accept-Language: en,th;q=0.9\n",
    "Connection: keep-alive\n",
    "Cookie: iconGridCol=4; iconGridRow=3\n",
    "Host: 192.168.0.10\n",
    "Referer: http://192.168.0.10/\n",
    "User-Agent: Mozilla/5.0 (Macintosh; Intel Mac OS X 10_14_6) AppleWebKit/537.36 (KHTML, like Gecko) Chrome/75.0.3770.100 Safari/537.36\n",
    "X-Requested-With: XMLHttpRequest'''\n",
    "\n",
    "\n",
    "\n",
    "def parse_string_to_dict(request_header_string):\n",
    "    request_header_dict={}\n",
    "    request_header_list = [header.split(\": \") if len(header.split(\": \")) == 2 else [header.split(\": \")[0],header.split(': ')[1]+': '+header.split(': ')[2]] for header in request_header_string.split('\\n')]\n",
    "#     print (request_header_list)\n",
    "    for (dict_key,dict_value) in request_header_list:\n",
    "        request_header_dict[dict_key] = dict_value\n",
    "    return request_header_dict\n"
   ]
  },
  {
   "cell_type": "code",
   "execution_count": 102,
   "metadata": {},
   "outputs": [
    {
     "data": {
      "text/plain": [
       "'\"1350\\\\n2450\\\\n1\\\\n16044\\\\n10\\\\n1100\\\\n51\\\\n1726\\\\n\" \\n\\n'"
      ]
     },
     "execution_count": 102,
     "metadata": {},
     "output_type": "execute_result"
    }
   ],
   "source": [
    "URL = \"http://192.168.0.10/read_file.php?filename=defaultParameters.txt&time=0\"\n",
    "  \n",
    "  \n",
    "# defining a params dict for the parameters to be sent to the API \n",
    "PARAMS = parse_string_to_dict(request_header_string)\n",
    "  \n",
    "# sending get request and saving the response as response object \n",
    "response = requests.get(url = URL, params = PARAMS) \n",
    "  \n",
    "response.text"
   ]
  },
  {
   "cell_type": "code",
   "execution_count": null,
   "metadata": {},
   "outputs": [],
   "source": [
    "\"1350\\n2450\\n1\\n16044\\n10\\n1100\\n51\\n1726\\n\" "
   ]
  },
  {
   "cell_type": "markdown",
   "metadata": {},
   "source": [
    "# Calibration script"
   ]
  },
  {
   "cell_type": "code",
   "execution_count": 151,
   "metadata": {},
   "outputs": [
    {
     "data": {
      "text/plain": [
       "'\"-1650.2637939453125000000000000000000000000000000000000000000000000000\\\\n1.1157624721527099609375000000000000000000000000000000000000000000\\\\n0.0001071036967914551496505737304687500000000000000000000000000000\\\\n\" \\n\\n'"
      ]
     },
     "execution_count": 151,
     "metadata": {},
     "output_type": "execute_result"
    }
   ],
   "source": [
    "### read file script 1\n",
    "header = '''Accept: */*\n",
    "Accept-Encoding: gzip, deflate\n",
    "Accept-Language: en,th;q=0.9\n",
    "Connection: keep-alive\n",
    "Cookie: iconGridCol=4; iconGridRow=3\n",
    "Host: 192.168.0.10\n",
    "Referer: http://192.168.0.10/\n",
    "User-Agent: Mozilla/5.0 (Macintosh; Intel Mac OS X 10_14_6) AppleWebKit/537.36 (KHTML, like Gecko) Chrome/75.0.3770.100 Safari/537.36\n",
    "X-Requested-With: XMLHttpRequest'''\n",
    "\n",
    "\n",
    "PARAMS = parse_string_to_dict(header)\n",
    "URL = \"http://192.168.0.10/read_file.php?filename=calibration_data%2Fpixel_coeffs.txt&time=0\"\n",
    "  \n",
    "# sending get request and saving the response as response object \n",
    "response = requests.get(url = URL, params = PARAMS) \n",
    "  \n",
    "response.text\n"
   ]
  },
  {
   "cell_type": "code",
   "execution_count": 152,
   "metadata": {},
   "outputs": [
    {
     "name": "stdout",
     "output_type": "stream",
     "text": [
      "\n"
     ]
    }
   ],
   "source": [
    "#### write file script 1\n",
    "n_random= np.random.randint(10,300)\n",
    "\n",
    "write_file_body={\"a\":''' exec 1> log.txt\n",
    "rm patterns/*.csv\n",
    "rm patterns/*.bmp\n",
    "rm patterns/*.sdf\n",
    "rm tmp/*\n",
    "rm *.bmp\n",
    "echo \"Generating Patterns...\" > tmp/script_status{n}.txt\n",
    "dlp_nirscan -A51 -Z1726 -N110\n",
    "if [ $? -eq 255 ];\n",
    " then\n",
    " echo \"failed\" > tmp/script_status{n}.txt\n",
    " exit 0\n",
    " fi\n",
    "cd patterns/\n",
    "echo \"Preparing Scan Solution...\" > ../tmp/script_status10.txt\n",
    "dlp_nirscan -Pscan.sdf\n",
    "if [ $? -eq 255 ];\n",
    " then\n",
    " echo \"failed\" > ../tmp/script_status{n}.txt\n",
    " exit 0\n",
    " fi\n",
    "echo \"Loading Patterns...\" > ../tmp/script_status{n}.txt\n",
    "count=0\n",
    "for entry in *\n",
    "do\n",
    "case $entry in *.bmp)\n",
    "convert $entry -virtual-pixel Black  -filter point -interpolate nearestneighbor -distort polynomial \"2 $(cat /usr/share/matrix-gui-2.0/calibration_data/control_points.txt)\" scan_img.bmp\n",
    "mv scan_img.bmp $entry\n",
    "count=$((count+1));;\n",
    "esac\n",
    "done\n",
    "dlp_nirscan -l$count\n",
    "\n",
    "cd .. \n",
    "dlp_nirscan -S110 -E1400 -fcustom_scan\n",
    "#Using a more unique string to detect if the script is completed\n",
    "echo \"_?!!SCRIPT_COMPLETED!!?_\" > tmp/script_status{n}.txt'''.format(n=n_random),\n",
    "'filename': 'scan.sh'}\n",
    "\n",
    "\n",
    "\n",
    "header_string = '''Accept: */*\n",
    "Accept-Encoding: gzip, deflate\n",
    "Accept-Language: en,th;q=0.9\n",
    "Connection: keep-alive\n",
    "Content-Length: 1185\n",
    "Content-Type: application/x-www-form-urlencoded\n",
    "Cookie: iconGridCol=4; iconGridRow=3\n",
    "Host: 192.168.0.10\n",
    "Origin: http://192.168.0.10\n",
    "Referer: http://192.168.0.10/\n",
    "User-Agent: Mozilla/5.0 (Macintosh; Intel Mac OS X 10_14_6) AppleWebKit/537.36 (KHTML, like Gecko) Chrome/75.0.3770.100 Safari/537.36\n",
    "X-Requested-With: XMLHttpRequest'''\n",
    "\n",
    "header = parse_string_to_dict(header_string)\n",
    "\n",
    "data = write_file_body\n",
    "API_ENDPOINT = \"http://192.168.0.10/write_file.php\"\n",
    "# sending post request and saving response as response object \n",
    "r = requests.post(url = API_ENDPOINT, data = data, headers=header) \n",
    "  \n",
    "# extracting response text  \n",
    "print(r.text)"
   ]
  },
  {
   "cell_type": "code",
   "execution_count": 153,
   "metadata": {},
   "outputs": [
    {
     "data": {
      "text/plain": [
       "''"
      ]
     },
     "execution_count": 153,
     "metadata": {},
     "output_type": "execute_result"
    }
   ],
   "source": [
    "### read file script 1\n",
    "header = '''Accept: */*\n",
    "Accept-Encoding: gzip, deflate\n",
    "Accept-Language: en,th;q=0.9\n",
    "Connection: keep-alive\n",
    "Cookie: iconGridCol=4; iconGridRow=3\n",
    "Host: 192.168.0.10\n",
    "Referer: http://192.168.0.10/\n",
    "User-Agent: Mozilla/5.0 (Macintosh; Intel Mac OS X 10_14_6) AppleWebKit/537.36 (KHTML, like Gecko) Chrome/75.0.3770.100 Safari/537.36\n",
    "X-Requested-With: XMLHttpRequest'''\n",
    "\n",
    "\n",
    "PARAMS = parse_string_to_dict(header)\n",
    "URL = \"http://192.168.0.10/run_scan.php\"\n",
    "  \n",
    "# sending get request and saving the response as response object \n",
    "response = requests.get(url = URL, params = PARAMS) \n",
    "  \n",
    "response.text\n"
   ]
  },
  {
   "cell_type": "code",
   "execution_count": 154,
   "metadata": {},
   "outputs": [
    {
     "name": "stdout",
     "output_type": "stream",
     "text": [
      "\n"
     ]
    }
   ],
   "source": [
    "#### write file script 2\n",
    "body = {'a': '''1350\n",
    "2450\n",
    "10\n",
    "1610\n",
    "10\n",
    "110\n",
    "51\n",
    "1726''',\n",
    "'filename': 'defaultParameters.txt'}\n",
    "\n",
    "\n",
    "\n",
    "header_string = '''Accept: */*\n",
    "Accept-Encoding: gzip, deflate\n",
    "Accept-Language: en,th;q=0.9\n",
    "Connection: keep-alive\n",
    "Content-Length: 82\n",
    "Content-Type: application/x-www-form-urlencoded\n",
    "Cookie: iconGridCol=4; iconGridRow=3\n",
    "Host: 192.168.0.10\n",
    "Origin: http://192.168.0.10\n",
    "Referer: http://192.168.0.10/\n",
    "User-Agent: Mozilla/5.0 (Macintosh; Intel Mac OS X 10_14_6) AppleWebKit/537.36 (KHTML, like Gecko) Chrome/75.0.3770.100 Safari/537.36\n",
    "X-Requested-With: XMLHttpRequest'''\n",
    "\n",
    "header = parse_string_to_dict(header_string)\n",
    "data = body\n",
    "\n",
    "API_ENDPOINT = \"http://192.168.0.10/write_file.php\"\n",
    "# sending post request and saving response as response object \n",
    "r = requests.post(url = API_ENDPOINT, data = data, headers=header) \n",
    "  \n",
    "# extracting response text  \n",
    "print(r.text)"
   ]
  },
  {
   "cell_type": "code",
   "execution_count": 155,
   "metadata": {},
   "outputs": [
    {
     "data": {
      "text/plain": [
       "'_?!!SCRIPT_COMPLETED!!?_\\n'"
      ]
     },
     "execution_count": 155,
     "metadata": {},
     "output_type": "execute_result"
    }
   ],
   "source": [
    "### check ccalibration status###\n",
    "### read file script 1\n",
    "import time\n",
    "header = '''Accept: */*\n",
    "Accept-Encoding: gzip, deflate\n",
    "Accept-Language: en,th;q=0.9\n",
    "Connection: keep-alive\n",
    "Cookie: iconGridCol=4; iconGridRow=3\n",
    "Host: 192.168.0.10\n",
    "Referer: http://192.168.0.10/\n",
    "User-Agent: Mozilla/5.0 (Macintosh; Intel Mac OS X 10_14_6) AppleWebKit/537.36 (KHTML, like Gecko) Chrome/75.0.3770.100 Safari/537.36\n",
    "X-Requested-With: XMLHttpRequest'''\n",
    "\n",
    "\n",
    "PARAMS = parse_string_to_dict(header)\n",
    "URL = \"http://192.168.0.10/tmp/script_status{n}.txt\".format(n=n_random)\n",
    "  \n",
    "# sending get request and saving the response as response object \n",
    "response = requests.get(url = URL, params = PARAMS) \n",
    "\n",
    "while response.status_code == 404:\n",
    "    print(response.text)\n",
    "    time.sleep(2)\n",
    "    response = requests.get(url = URL, params = PARAMS)\n",
    "response.text\n"
   ]
  },
  {
   "cell_type": "code",
   "execution_count": 156,
   "metadata": {},
   "outputs": [
    {
     "data": {
      "text/plain": [
       "90"
      ]
     },
     "execution_count": 156,
     "metadata": {},
     "output_type": "execute_result"
    }
   ],
   "source": [
    "n_random"
   ]
  },
  {
   "cell_type": "code",
   "execution_count": null,
   "metadata": {},
   "outputs": [],
   "source": []
  },
  {
   "cell_type": "code",
   "execution_count": null,
   "metadata": {},
   "outputs": [],
   "source": []
  }
 ],
 "metadata": {
  "kernelspec": {
   "display_name": "Python 3",
   "language": "python",
   "name": "python3"
  },
  "language_info": {
   "codemirror_mode": {
    "name": "ipython",
    "version": 3
   },
   "file_extension": ".py",
   "mimetype": "text/x-python",
   "name": "python",
   "nbconvert_exporter": "python",
   "pygments_lexer": "ipython3",
   "version": "3.7.4"
  }
 },
 "nbformat": 4,
 "nbformat_minor": 2
}
